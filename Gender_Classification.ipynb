{
  "nbformat": 4,
  "nbformat_minor": 0,
  "metadata": {
    "colab": {
      "name": "Gender Classification.ipynb",
      "provenance": [],
      "collapsed_sections": []
    },
    "kernelspec": {
      "display_name": "Python 3",
      "name": "python3"
    },
    "language_info": {
      "name": "python"
    }
  },
  "cells": [
    {
      "cell_type": "markdown",
      "metadata": {
        "id": "rud_P_CjPKXi"
      },
      "source": [
        "# Drive Connection\n"
      ]
    },
    {
      "cell_type": "code",
      "metadata": {
        "colab": {
          "base_uri": "https://localhost:8080/"
        },
        "id": "jluaHNRDmaJV",
        "outputId": "ae2e75c2-b918-41e9-9193-9354f614ed35"
      },
      "source": [
        "from google.colab import drive\n",
        "drive.mount ('/content/drive')"
      ],
      "execution_count": 1,
      "outputs": [
        {
          "output_type": "stream",
          "name": "stdout",
          "text": [
            "Drive already mounted at /content/drive; to attempt to forcibly remount, call drive.mount(\"/content/drive\", force_remount=True).\n"
          ]
        }
      ]
    },
    {
      "cell_type": "markdown",
      "metadata": {
        "id": "nXibo5Z_jexj"
      },
      "source": [
        "# Import Libraries\n",
        "\n"
      ]
    },
    {
      "cell_type": "code",
      "metadata": {
        "colab": {
          "base_uri": "https://localhost:8080/"
        },
        "id": "hwi_poKrgBy9",
        "outputId": "d381d3e7-a076-4825-d258-97af02a0bd5b"
      },
      "source": [
        "import tensorflow as tf\n",
        "print(tf.__version__)\n",
        "import sys,os\n",
        "import pandas as pd\n",
        "import numpy as np\n",
        "from numpy.random import randint\n",
        "import matplotlib.pyplot as plt\n",
        "import librosa\n",
        "import librosa.display\n",
        "import soundfile as sf\n",
        "from tqdm.notebook import tqdm\n",
        "import re\n",
        "import seaborn as sns\n",
        "%matplotlib inline\n",
        "\n",
        "from sklearn.preprocessing import LabelEncoder\n",
        "\n",
        "# models\n",
        "from sklearn import linear_model, naive_bayes, neighbors\n",
        "from sklearn.neighbors.nearest_centroid import NearestCentroid\n",
        "from sklearn.neighbors import KNeighborsClassifier\n",
        "from sklearn.neural_network import MLPClassifier\n",
        "from sklearn import tree\n",
        "from sklearn.ensemble import RandomForestClassifier\n",
        "import numpy as np\n",
        "from keras.models import Sequential\n",
        "from keras.utils import np_utils\n",
        "from sklearn import metrics \n",
        "from keras.layers import Dense, Dropout, Activation, Flatten, Convolution2D, Dropout, BatchNormalization, MaxPool1D, Conv1D, MaxPooling1D, GlobalMaxPool1D, GlobalAveragePooling1D\n",
        "\n",
        "# stat libraries\n",
        "from scipy import stats\n",
        "\n",
        "# Libraries for the evaluation\n",
        "from sklearn import model_selection\n",
        "from sklearn.metrics import confusion_matrix\n",
        "from sklearn.metrics import accuracy_score\n",
        "from sklearn.metrics import precision_score\n",
        "from sklearn.metrics import recall_score\n",
        "%matplotlib inline"
      ],
      "execution_count": 2,
      "outputs": [
        {
          "output_type": "stream",
          "name": "stdout",
          "text": [
            "2.6.0\n"
          ]
        },
        {
          "output_type": "stream",
          "name": "stderr",
          "text": [
            "/usr/local/lib/python3.7/dist-packages/sklearn/utils/deprecation.py:144: FutureWarning: The sklearn.neighbors.nearest_centroid module is  deprecated in version 0.22 and will be removed in version 0.24. The corresponding classes / functions should instead be imported from sklearn.neighbors. Anything that cannot be imported from sklearn.neighbors is now part of the private API.\n",
            "  warnings.warn(message, FutureWarning)\n"
          ]
        }
      ]
    },
    {
      "cell_type": "code",
      "metadata": {
        "id": "rQekB6AQmVQG"
      },
      "source": [
        "sample_rate = 16000\n",
        "n_features = 20\n",
        "def extract_features(audio):\n",
        "    mfccs = librosa.feature.mfcc(y=audio, sr=sample_rate, n_mfcc=n_features)\n",
        "    return mfccs   # it returns a np.array with size (n_features,'t') where t is the number of audio frames."
      ],
      "execution_count": 3,
      "outputs": []
    },
    {
      "cell_type": "code",
      "metadata": {
        "id": "gBoxiO_nTtqe"
      },
      "source": [
        "# there are 2703 audio files (ext: .flac)\n",
        "root = \"/content/drive/MyDrive/LibriSpeech/dev-clean\"\n",
        "df = pd.DataFrame(columns=['speaker_id', 'features', 'mean_features', 'feature_len'])      "
      ],
      "execution_count": 4,
      "outputs": []
    },
    {
      "cell_type": "code",
      "metadata": {
        "colab": {
          "base_uri": "https://localhost:8080/"
        },
        "id": "Rn9N2rFoT1dL",
        "outputId": "ba3470eb-fb2d-4f61-a96b-e5fc75ea56aa"
      },
      "source": [
        "df.shape"
      ],
      "execution_count": 5,
      "outputs": [
        {
          "output_type": "execute_result",
          "data": {
            "text/plain": [
              "(0, 4)"
            ]
          },
          "metadata": {},
          "execution_count": 5
        }
      ]
    },
    {
      "cell_type": "code",
      "metadata": {
        "colab": {
          "base_uri": "https://localhost:8080/",
          "height": 49
        },
        "id": "xV2VQFuFXXzX",
        "outputId": "8eb6b770-c6cc-4713-f98f-3c058c21603f"
      },
      "source": [
        "df.head()"
      ],
      "execution_count": 6,
      "outputs": [
        {
          "output_type": "execute_result",
          "data": {
            "text/html": [
              "<div>\n",
              "<style scoped>\n",
              "    .dataframe tbody tr th:only-of-type {\n",
              "        vertical-align: middle;\n",
              "    }\n",
              "\n",
              "    .dataframe tbody tr th {\n",
              "        vertical-align: top;\n",
              "    }\n",
              "\n",
              "    .dataframe thead th {\n",
              "        text-align: right;\n",
              "    }\n",
              "</style>\n",
              "<table border=\"1\" class=\"dataframe\">\n",
              "  <thead>\n",
              "    <tr style=\"text-align: right;\">\n",
              "      <th></th>\n",
              "      <th>speaker_id</th>\n",
              "      <th>features</th>\n",
              "      <th>mean_features</th>\n",
              "      <th>feature_len</th>\n",
              "    </tr>\n",
              "  </thead>\n",
              "  <tbody>\n",
              "  </tbody>\n",
              "</table>\n",
              "</div>"
            ],
            "text/plain": [
              "Empty DataFrame\n",
              "Columns: [speaker_id, features, mean_features, feature_len]\n",
              "Index: []"
            ]
          },
          "metadata": {},
          "execution_count": 6
        }
      ]
    },
    {
      "cell_type": "code",
      "metadata": {
        "id": "JCuNsq6aT58G"
      },
      "source": [
        "i = 0\n",
        "# max_pad_len = 1021\n",
        "# loading the features in the first dataframe\n",
        "for path, subdirs, files in os.walk(root):\n",
        "    for name in files:\n",
        "        if name.endswith(\".flac\"):\n",
        "          speaker_id = path.split('/')[-2]\n",
        "          sound, sr = sf.read(os.path.join(path, name)) \n",
        "          data = extract_features(sound)\n",
        "          mean = data.mean(axis=1)\n",
        "          # zero-pad the mfccs features in order to have all compatible shapes for input of the CNN.\n",
        "          # max_pad_len is the biggest number of audio frames\n",
        "          # obtained by extracting features (mfccs) from all the audio files.\n",
        "          # pad_width = max_pad_len - data.shape[1]\n",
        "          # data = np.pad(data, pad_width=((0,0), (0, pad_width)), mode='constant')\n",
        "          df.loc[i] = [speaker_id] + [data] + [mean] + [data.shape[-1]]\n",
        "          i += 1\n",
        "          # print(i)"
      ],
      "execution_count": 7,
      "outputs": []
    },
    {
      "cell_type": "code",
      "metadata": {
        "colab": {
          "base_uri": "https://localhost:8080/"
        },
        "id": "0ux7ob78Z6Lk",
        "outputId": "903522b3-ee7a-4d25-c587-3caf57154d24"
      },
      "source": [
        "df.shape"
      ],
      "execution_count": 8,
      "outputs": [
        {
          "output_type": "execute_result",
          "data": {
            "text/plain": [
              "(2703, 4)"
            ]
          },
          "metadata": {},
          "execution_count": 8
        }
      ]
    },
    {
      "cell_type": "code",
      "metadata": {
        "id": "WxHRm2-xmmT_"
      },
      "source": [
        "            \n",
        "# loading the labels in the second dataframe\n",
        "root = \"/content/drive/MyDrive/LibriSpeech/\"\n",
        "labels = pd.DataFrame(columns=['speaker_id', 'gender'])\n",
        "\n",
        "f = open(\"/content/drive/MyDrive/LibriSpeech/SPEAKERS.TXT\", \"r\", encoding=\"UTF8\").readlines()\n",
        "i = 0\n",
        "for idx, line in enumerate(f):\n",
        "  if idx > 11:\n",
        "    parsed = re.split('\\s+',line)\n",
        "    if parsed[4] == 'dev-clean':\n",
        "      labels.loc[i] = parsed[0], parsed[2] # speaker_id and label (M/F)\n",
        "      i += 1   \n"
      ],
      "execution_count": 9,
      "outputs": []
    },
    {
      "cell_type": "code",
      "metadata": {
        "colab": {
          "base_uri": "https://localhost:8080/"
        },
        "id": "d1jwgwNbaLY9",
        "outputId": "bf57dc4c-bf17-46cf-d0bd-161754d32baa"
      },
      "source": [
        "labels.shape"
      ],
      "execution_count": 10,
      "outputs": [
        {
          "output_type": "execute_result",
          "data": {
            "text/plain": [
              "(40, 2)"
            ]
          },
          "metadata": {},
          "execution_count": 10
        }
      ]
    },
    {
      "cell_type": "code",
      "metadata": {
        "colab": {
          "base_uri": "https://localhost:8080/",
          "height": 204
        },
        "id": "ofWieHi5aEPq",
        "outputId": "6fe5f3f6-ed95-4a1a-ac99-0057821da057"
      },
      "source": [
        "dataset = pd.merge(df, labels, on='speaker_id')  # merging the two dataframes.\n",
        "\n",
        "# REPLACE CATEGORICAL VALUES INTO NUMERIC VALUES\n",
        "dataset[\"gender\"].replace({\"M\": 1, \"F\": 0}, inplace=True)\n",
        "dataset.head(5)"
      ],
      "execution_count": 11,
      "outputs": [
        {
          "output_type": "execute_result",
          "data": {
            "text/html": [
              "<div>\n",
              "<style scoped>\n",
              "    .dataframe tbody tr th:only-of-type {\n",
              "        vertical-align: middle;\n",
              "    }\n",
              "\n",
              "    .dataframe tbody tr th {\n",
              "        vertical-align: top;\n",
              "    }\n",
              "\n",
              "    .dataframe thead th {\n",
              "        text-align: right;\n",
              "    }\n",
              "</style>\n",
              "<table border=\"1\" class=\"dataframe\">\n",
              "  <thead>\n",
              "    <tr style=\"text-align: right;\">\n",
              "      <th></th>\n",
              "      <th>speaker_id</th>\n",
              "      <th>features</th>\n",
              "      <th>mean_features</th>\n",
              "      <th>feature_len</th>\n",
              "      <th>gender</th>\n",
              "    </tr>\n",
              "  </thead>\n",
              "  <tbody>\n",
              "    <tr>\n",
              "      <th>0</th>\n",
              "      <td>84</td>\n",
              "      <td>[[-496.89234875492144, -476.48069672791394, -4...</td>\n",
              "      <td>[-258.8246089785458, 103.87397462207245, -0.76...</td>\n",
              "      <td>149</td>\n",
              "      <td>0</td>\n",
              "    </tr>\n",
              "    <tr>\n",
              "      <th>1</th>\n",
              "      <td>84</td>\n",
              "      <td>[[-497.26437359421, -491.91095208994074, -490....</td>\n",
              "      <td>[-277.8363737795311, 85.01179562907777, 6.4026...</td>\n",
              "      <td>196</td>\n",
              "      <td>0</td>\n",
              "    </tr>\n",
              "    <tr>\n",
              "      <th>2</th>\n",
              "      <td>84</td>\n",
              "      <td>[[-472.73129778864404, -478.1253176789915, -49...</td>\n",
              "      <td>[-275.2079016757408, 85.35834034116208, 10.368...</td>\n",
              "      <td>293</td>\n",
              "      <td>0</td>\n",
              "    </tr>\n",
              "    <tr>\n",
              "      <th>3</th>\n",
              "      <td>84</td>\n",
              "      <td>[[-505.3398486839001, -502.4408384539761, -504...</td>\n",
              "      <td>[-306.6638471622918, 105.45939917679402, 0.232...</td>\n",
              "      <td>82</td>\n",
              "      <td>0</td>\n",
              "    </tr>\n",
              "    <tr>\n",
              "      <th>4</th>\n",
              "      <td>84</td>\n",
              "      <td>[[-511.71966908933877, -504.6651393416577, -50...</td>\n",
              "      <td>[-316.33891555695493, 76.52286736768811, 9.761...</td>\n",
              "      <td>213</td>\n",
              "      <td>0</td>\n",
              "    </tr>\n",
              "  </tbody>\n",
              "</table>\n",
              "</div>"
            ],
            "text/plain": [
              "  speaker_id  ... gender\n",
              "0         84  ...      0\n",
              "1         84  ...      0\n",
              "2         84  ...      0\n",
              "3         84  ...      0\n",
              "4         84  ...      0\n",
              "\n",
              "[5 rows x 5 columns]"
            ]
          },
          "metadata": {},
          "execution_count": 11
        }
      ]
    },
    {
      "cell_type": "code",
      "metadata": {
        "colab": {
          "base_uri": "https://localhost:8080/"
        },
        "id": "rBRUYmDOnk-m",
        "outputId": "feca4b63-30c3-45fd-fafb-f9d1e0e97318"
      },
      "source": [
        "dataset['gender'].value_counts()\n"
      ],
      "execution_count": 12,
      "outputs": [
        {
          "output_type": "execute_result",
          "data": {
            "text/plain": [
              "0    1374\n",
              "1    1329\n",
              "Name: gender, dtype: int64"
            ]
          },
          "metadata": {},
          "execution_count": 12
        }
      ]
    },
    {
      "cell_type": "code",
      "metadata": {
        "colab": {
          "base_uri": "https://localhost:8080/"
        },
        "id": "GDBrgoPyaYTv",
        "outputId": "e687ebf8-6de1-4d51-beb1-90105b8e8611"
      },
      "source": [
        "len(dataset)"
      ],
      "execution_count": 13,
      "outputs": [
        {
          "output_type": "execute_result",
          "data": {
            "text/plain": [
              "2703"
            ]
          },
          "metadata": {},
          "execution_count": 13
        }
      ]
    },
    {
      "cell_type": "markdown",
      "metadata": {
        "id": "guLrZvBpnyYu"
      },
      "source": [
        "# Train / Test Split "
      ]
    },
    {
      "cell_type": "code",
      "metadata": {
        "colab": {
          "base_uri": "https://localhost:8080/"
        },
        "id": "5L43EXrMn2dS",
        "outputId": "e4c6f736-b052-4f91-ce97-89e92d982ac8"
      },
      "source": [
        "train_test_ratio = 0.95\n",
        "n_sounds = len(dataset)\n",
        "\n",
        "def split_train_test(train_test_ratio, n_sounds):\n",
        "    \n",
        "    train = pd.DataFrame(columns=['speaker_id', 'features' , 'gender'])\n",
        "    test = pd.DataFrame(columns=['speaker_id', 'features', 'gender'])\n",
        "    \n",
        "    train_elems = int(np.floor(n_sounds*train_test_ratio))\n",
        "    test_elems = n_sounds - train_elems\n",
        "    \n",
        "    print(\"Splitting ratio: \",train_test_ratio)\n",
        "    print(\"Expected audio in the train: \", train_elems)\n",
        "    print(\"Expected audio in the test: \", test_elems)\n",
        "    print(\"Total audios: \", n_sounds)\n",
        "    \n",
        "    \"\"\"\n",
        "    EXPLANATION:\n",
        "    so, there are 20 males speakers (1374 audio files) and 20 female speakers (1329 audio files).\n",
        "    \n",
        "    first run:\n",
        "        - until is not reached the 0.8 (=split ratio) * number of audio of males...\n",
        "        - ...keep adding all the audio of each MALE speaker (almost 16 speakers)\n",
        "        - Then, adds the audio of the remaining (4) speakers to the test\n",
        "        \n",
        "    second run:\n",
        "        - until the train set doesn't have enough audio (so, 0.8 * total number of audio)...\n",
        "        - ...keep adding all the audio of each FEMALE speaker\n",
        "        - Then, adds the audio of the remaining speakers to the test.\n",
        "        \n",
        "    \n",
        "    Now train and test have a balanced number of male and female speakers... and independent samples.\n",
        "    \"\"\"\n",
        "\n",
        "    male_train = int(np.floor(dataset['gender'].value_counts()[0]* train_test_ratio))\n",
        "    male_test = int(np.ceil(dataset['gender'].value_counts()[0]* (1-train_test_ratio)))\n",
        "    train_sizes = [male_train, train_elems]\n",
        "    test_sizes = [male_test + male_train, n_sounds]\n",
        "    \n",
        "    for gender in range(2):  \n",
        "        if gender == 0:\n",
        "            gender_set = dataset[dataset[\"gender\"] == gender]   # MALES\n",
        "        elif gender == 1:\n",
        "            gender_set = dataset[dataset[\"gender\"] == gender]   # FEMALES\n",
        "\n",
        "        ordered_gender_set = gender_set['speaker_id'].value_counts()\n",
        "        i = 0\n",
        "        while (train.shape[0] < train_sizes[gender]):\n",
        "            train = train.append(gender_set[gender_set[\"speaker_id\"] == ordered_gender_set.index[i]])\n",
        "            i += 1\n",
        "        while (test.shape[0] + train.shape[0] != test_sizes[gender]): \n",
        "            test = test.append(gender_set[gender_set[\"speaker_id\"] == ordered_gender_set.index[i]])\n",
        "            i += 1\n",
        "            \n",
        "    # Since we are inserting a speaker (and all its related audio files) per time, \n",
        "    # the splitting ratio might slightly differ:\n",
        "    print(\"\\nActual splitting ratio: {:.3f}\".format(train.shape[0]/n_sounds))\n",
        "    print(\"Actual audio in the train: \", train.shape[0])\n",
        "    print(\"Actual audio in the test: \", test.shape[0])\n",
        "\n",
        "    print(\"\\nMales in the train: \", train['gender'].value_counts()[0])\n",
        "    print(\"Males in the test: \", test['gender'].value_counts()[0])\n",
        "    print(\"Females in the train: \", train['gender'].value_counts()[1])\n",
        "    print(\"Females in the test: \", test['gender'].value_counts()[1])\n",
        "\n",
        "    return train, test\n",
        "   \n",
        "train, test = split_train_test(train_test_ratio, n_sounds)"
      ],
      "execution_count": 14,
      "outputs": [
        {
          "output_type": "stream",
          "name": "stdout",
          "text": [
            "Splitting ratio:  0.95\n",
            "Expected audio in the train:  2567\n",
            "Expected audio in the test:  136\n",
            "Total audios:  2703\n",
            "\n",
            "Actual splitting ratio: 0.957\n",
            "Actual audio in the train:  2588\n",
            "Actual audio in the test:  115\n",
            "\n",
            "Males in the train:  1333\n",
            "Males in the test:  41\n",
            "Females in the train:  1255\n",
            "Females in the test:  74\n"
          ]
        }
      ]
    },
    {
      "cell_type": "code",
      "metadata": {
        "colab": {
          "base_uri": "https://localhost:8080/",
          "height": 204
        },
        "id": "a82C3LNbc3S7",
        "outputId": "3a377393-61c2-455b-e001-621c4de806dd"
      },
      "source": [
        "train.head()"
      ],
      "execution_count": 15,
      "outputs": [
        {
          "output_type": "execute_result",
          "data": {
            "text/html": [
              "<div>\n",
              "<style scoped>\n",
              "    .dataframe tbody tr th:only-of-type {\n",
              "        vertical-align: middle;\n",
              "    }\n",
              "\n",
              "    .dataframe tbody tr th {\n",
              "        vertical-align: top;\n",
              "    }\n",
              "\n",
              "    .dataframe thead th {\n",
              "        text-align: right;\n",
              "    }\n",
              "</style>\n",
              "<table border=\"1\" class=\"dataframe\">\n",
              "  <thead>\n",
              "    <tr style=\"text-align: right;\">\n",
              "      <th></th>\n",
              "      <th>speaker_id</th>\n",
              "      <th>features</th>\n",
              "      <th>gender</th>\n",
              "      <th>mean_features</th>\n",
              "      <th>feature_len</th>\n",
              "    </tr>\n",
              "  </thead>\n",
              "  <tbody>\n",
              "    <tr>\n",
              "      <th>2061</th>\n",
              "      <td>6313</td>\n",
              "      <td>[[-400.7924662973153, -396.44239799563974, -36...</td>\n",
              "      <td>0</td>\n",
              "      <td>[-274.09137631031604, 71.95444303795435, -80.4...</td>\n",
              "      <td>182</td>\n",
              "    </tr>\n",
              "    <tr>\n",
              "      <th>2062</th>\n",
              "      <td>6313</td>\n",
              "      <td>[[-355.670410546917, -350.45071405464546, -342...</td>\n",
              "      <td>0</td>\n",
              "      <td>[-271.84440611111364, 51.16532988349791, -76.5...</td>\n",
              "      <td>93</td>\n",
              "    </tr>\n",
              "    <tr>\n",
              "      <th>2063</th>\n",
              "      <td>6313</td>\n",
              "      <td>[[-417.8692871053174, -414.87253576341305, -42...</td>\n",
              "      <td>0</td>\n",
              "      <td>[-279.76635964283923, 55.02419808562309, -60.8...</td>\n",
              "      <td>93</td>\n",
              "    </tr>\n",
              "    <tr>\n",
              "      <th>2064</th>\n",
              "      <td>6313</td>\n",
              "      <td>[[-400.5826659424235, -392.81021840022214, -37...</td>\n",
              "      <td>0</td>\n",
              "      <td>[-272.39611630881603, 60.27930214360178, -68.3...</td>\n",
              "      <td>208</td>\n",
              "    </tr>\n",
              "    <tr>\n",
              "      <th>2065</th>\n",
              "      <td>6313</td>\n",
              "      <td>[[-417.46792880412187, -401.56190202613584, -3...</td>\n",
              "      <td>0</td>\n",
              "      <td>[-278.7982185852052, 50.10121822887248, -66.00...</td>\n",
              "      <td>126</td>\n",
              "    </tr>\n",
              "  </tbody>\n",
              "</table>\n",
              "</div>"
            ],
            "text/plain": [
              "     speaker_id  ... feature_len\n",
              "2061       6313  ...         182\n",
              "2062       6313  ...          93\n",
              "2063       6313  ...          93\n",
              "2064       6313  ...         208\n",
              "2065       6313  ...         126\n",
              "\n",
              "[5 rows x 5 columns]"
            ]
          },
          "metadata": {},
          "execution_count": 15
        }
      ]
    },
    {
      "cell_type": "code",
      "metadata": {
        "colab": {
          "base_uri": "https://localhost:8080/"
        },
        "id": "zwfYQWjHai1j",
        "outputId": "e73a25f7-076b-4ee3-ac79-d794e70bf8c4"
      },
      "source": [
        "train.shape, test.shape"
      ],
      "execution_count": 16,
      "outputs": [
        {
          "output_type": "execute_result",
          "data": {
            "text/plain": [
              "((2588, 5), (115, 5))"
            ]
          },
          "metadata": {},
          "execution_count": 16
        }
      ]
    },
    {
      "cell_type": "code",
      "metadata": {
        "colab": {
          "base_uri": "https://localhost:8080/",
          "height": 49
        },
        "id": "Xczoqp_kat6g",
        "outputId": "5b3b6be8-4fa8-45c6-a8d5-0d17f80725fa"
      },
      "source": [
        "test[test.speaker_id.isin(train.speaker_id)]"
      ],
      "execution_count": 17,
      "outputs": [
        {
          "output_type": "execute_result",
          "data": {
            "text/html": [
              "<div>\n",
              "<style scoped>\n",
              "    .dataframe tbody tr th:only-of-type {\n",
              "        vertical-align: middle;\n",
              "    }\n",
              "\n",
              "    .dataframe tbody tr th {\n",
              "        vertical-align: top;\n",
              "    }\n",
              "\n",
              "    .dataframe thead th {\n",
              "        text-align: right;\n",
              "    }\n",
              "</style>\n",
              "<table border=\"1\" class=\"dataframe\">\n",
              "  <thead>\n",
              "    <tr style=\"text-align: right;\">\n",
              "      <th></th>\n",
              "      <th>speaker_id</th>\n",
              "      <th>features</th>\n",
              "      <th>gender</th>\n",
              "      <th>mean_features</th>\n",
              "      <th>feature_len</th>\n",
              "    </tr>\n",
              "  </thead>\n",
              "  <tbody>\n",
              "  </tbody>\n",
              "</table>\n",
              "</div>"
            ],
            "text/plain": [
              "Empty DataFrame\n",
              "Columns: [speaker_id, features, gender, mean_features, feature_len]\n",
              "Index: []"
            ]
          },
          "metadata": {},
          "execution_count": 17
        }
      ]
    },
    {
      "cell_type": "markdown",
      "metadata": {
        "id": "qa0uI_8ojOdO"
      },
      "source": [
        "# Data Processing\n"
      ]
    },
    {
      "cell_type": "code",
      "metadata": {
        "colab": {
          "base_uri": "https://localhost:8080/",
          "height": 279
        },
        "id": "4gjjAVjEpifs",
        "outputId": "e079cf44-1e74-4c84-906c-4c0b8ac0fc8e"
      },
      "source": [
        "train.gender.value_counts().plot(kind='bar')"
      ],
      "execution_count": 18,
      "outputs": [
        {
          "output_type": "execute_result",
          "data": {
            "text/plain": [
              "<matplotlib.axes._subplots.AxesSubplot at 0x7ffb632859d0>"
            ]
          },
          "metadata": {},
          "execution_count": 18
        },
        {
          "output_type": "display_data",
          "data": {
            "image/png": "[encoded data removed]",
            "text/plain": [
              "<Figure size 432x288 with 1 Axes>"
            ]
          },
          "metadata": {
            "needs_background": "light"
          }
        }
      ]
    },
    {
      "cell_type": "code",
      "metadata": {
        "colab": {
          "base_uri": "https://localhost:8080/",
          "height": 279
        },
        "id": "hi35EQdPbV61",
        "outputId": "2c1aa1cd-87ab-4506-ece3-7374ca09cac0"
      },
      "source": [
        "test.gender.value_counts().plot(kind='bar')"
      ],
      "execution_count": 19,
      "outputs": [
        {
          "output_type": "execute_result",
          "data": {
            "text/plain": [
              "<matplotlib.axes._subplots.AxesSubplot at 0x7ffb631d2e90>"
            ]
          },
          "metadata": {},
          "execution_count": 19
        },
        {
          "output_type": "display_data",
          "data": {
            "image/png": "[encoded data removed]",
            "text/plain": [
              "<Figure size 432x288 with 1 Axes>"
            ]
          },
          "metadata": {
            "needs_background": "light"
          }
        }
      ]
    },
    {
      "cell_type": "code",
      "metadata": {
        "colab": {
          "base_uri": "https://localhost:8080/"
        },
        "id": "Wzp0tSTobhoY",
        "outputId": "560ba68a-edba-4860-e8e9-ae925ec515ef"
      },
      "source": [
        "train.isnull().sum()"
      ],
      "execution_count": 20,
      "outputs": [
        {
          "output_type": "execute_result",
          "data": {
            "text/plain": [
              "speaker_id       0\n",
              "features         0\n",
              "gender           0\n",
              "mean_features    0\n",
              "feature_len      0\n",
              "dtype: int64"
            ]
          },
          "metadata": {},
          "execution_count": 20
        }
      ]
    },
    {
      "cell_type": "code",
      "metadata": {
        "colab": {
          "base_uri": "https://localhost:8080/",
          "height": 80
        },
        "id": "a3qijRch5RKU",
        "outputId": "504f6eec-a38d-42d0-b415-d2d1c9266f36"
      },
      "source": [
        "train.head(1)"
      ],
      "execution_count": 21,
      "outputs": [
        {
          "output_type": "execute_result",
          "data": {
            "text/html": [
              "<div>\n",
              "<style scoped>\n",
              "    .dataframe tbody tr th:only-of-type {\n",
              "        vertical-align: middle;\n",
              "    }\n",
              "\n",
              "    .dataframe tbody tr th {\n",
              "        vertical-align: top;\n",
              "    }\n",
              "\n",
              "    .dataframe thead th {\n",
              "        text-align: right;\n",
              "    }\n",
              "</style>\n",
              "<table border=\"1\" class=\"dataframe\">\n",
              "  <thead>\n",
              "    <tr style=\"text-align: right;\">\n",
              "      <th></th>\n",
              "      <th>speaker_id</th>\n",
              "      <th>features</th>\n",
              "      <th>gender</th>\n",
              "      <th>mean_features</th>\n",
              "      <th>feature_len</th>\n",
              "    </tr>\n",
              "  </thead>\n",
              "  <tbody>\n",
              "    <tr>\n",
              "      <th>2061</th>\n",
              "      <td>6313</td>\n",
              "      <td>[[-400.7924662973153, -396.44239799563974, -36...</td>\n",
              "      <td>0</td>\n",
              "      <td>[-274.09137631031604, 71.95444303795435, -80.4...</td>\n",
              "      <td>182</td>\n",
              "    </tr>\n",
              "  </tbody>\n",
              "</table>\n",
              "</div>"
            ],
            "text/plain": [
              "     speaker_id  ... feature_len\n",
              "2061       6313  ...         182\n",
              "\n",
              "[1 rows x 5 columns]"
            ]
          },
          "metadata": {},
          "execution_count": 21
        }
      ]
    },
    {
      "cell_type": "code",
      "metadata": {
        "id": "pDKY_XkK5X5Z"
      },
      "source": [
        "feature_df = pd.DataFrame(train.mean_features.tolist())"
      ],
      "execution_count": 22,
      "outputs": []
    },
    {
      "cell_type": "code",
      "metadata": {
        "id": "FAsmQG685uUS"
      },
      "source": [
        "corr_df = feature_df.corr()"
      ],
      "execution_count": 23,
      "outputs": []
    },
    {
      "cell_type": "code",
      "metadata": {
        "colab": {
          "base_uri": "https://localhost:8080/",
          "height": 914
        },
        "id": "NSey7jXo5-iv",
        "outputId": "be94616c-6c4b-4241-feaa-d8ea731fa6d4"
      },
      "source": [
        "f, ax = plt.subplots(figsize=(15, 12))\n",
        "cmap = sns.diverging_palette(220, 10, as_cmap=True)\n",
        "\n",
        "ax = sns.heatmap(corr_df, center=0, cmap=cmap,\n",
        "            square=True, linewidths=.5, cbar_kws={\"shrink\": .8}, annot=True)\n",
        "\n",
        "\n",
        "ax.set_title(\"Feature correlation\")\n",
        "fig.tight_layout()\n",
        "plt.show()"
      ],
      "execution_count": 24,
      "outputs": [
        {
          "output_type": "error",
          "ename": "NameError",
          "evalue": "ignored",
          "traceback": [
            "\u001b[0;31m---------------------------------------------------------------------------\u001b[0m",
            "\u001b[0;31mNameError\u001b[0m                                 Traceback (most recent call last)",
            "\u001b[0;32m<ipython-input-24-11b47443f1a6>\u001b[0m in \u001b[0;36m<module>\u001b[0;34m()\u001b[0m\n\u001b[1;32m      7\u001b[0m \u001b[0;34m\u001b[0m\u001b[0m\n\u001b[1;32m      8\u001b[0m \u001b[0max\u001b[0m\u001b[0;34m.\u001b[0m\u001b[0mset_title\u001b[0m\u001b[0;34m(\u001b[0m\u001b[0;34m\"Feature correlation\"\u001b[0m\u001b[0;34m)\u001b[0m\u001b[0;34m\u001b[0m\u001b[0;34m\u001b[0m\u001b[0m\n\u001b[0;32m----> 9\u001b[0;31m \u001b[0mfig\u001b[0m\u001b[0;34m.\u001b[0m\u001b[0mtight_layout\u001b[0m\u001b[0;34m(\u001b[0m\u001b[0;34m)\u001b[0m\u001b[0;34m\u001b[0m\u001b[0;34m\u001b[0m\u001b[0m\n\u001b[0m\u001b[1;32m     10\u001b[0m \u001b[0mplt\u001b[0m\u001b[0;34m.\u001b[0m\u001b[0mshow\u001b[0m\u001b[0;34m(\u001b[0m\u001b[0;34m)\u001b[0m\u001b[0;34m\u001b[0m\u001b[0;34m\u001b[0m\u001b[0m\n",
            "\u001b[0;31mNameError\u001b[0m: name 'fig' is not defined"
          ]
        },
        {
          "output_type": "display_data",
          "data": {
            "image/png": "[encoded data removed]",
            "text/plain": [
              "<Figure size 1080x864 with 2 Axes>"
            ]
          },
          "metadata": {
            "needs_background": "light"
          }
        }
      ]
    },
    {
      "cell_type": "markdown",
      "metadata": {
        "id": "aCriFaOAjuhv"
      },
      "source": [
        "# Machine Learning"
      ]
    },
    {
      "cell_type": "code",
      "metadata": {
        "colab": {
          "base_uri": "https://localhost:8080/"
        },
        "id": "d8cA2-mxn1hF",
        "outputId": "330357d6-68c7-4163-8cd7-1e4f920cef5b"
      },
      "source": [
        "X_train = np.array(train.mean_features.tolist())\n",
        "X_test = np.array(test.mean_features.tolist())\n",
        "y_train = np.array(train.gender.tolist())\n",
        "y_test = np.array(test.gender.tolist())\n",
        "\n",
        "X_train.shape, y_train.shape, X_test.shape, y_test.shape"
      ],
      "execution_count": 26,
      "outputs": [
        {
          "output_type": "execute_result",
          "data": {
            "text/plain": [
              "((2588, 20), (2588,), (115, 20), (115,))"
            ]
          },
          "metadata": {},
          "execution_count": 26
        }
      ]
    },
    {
      "cell_type": "code",
      "metadata": {
        "id": "pnzUUSmL-hlr"
      },
      "source": [
        "mean = X_train.mean(axis=0)\n",
        "std = X_train.std(axis=0)"
      ],
      "execution_count": 28,
      "outputs": []
    },
    {
      "cell_type": "code",
      "metadata": {
        "id": "fEns_Qmw-xsM"
      },
      "source": [
        "X_train = (X_train - mean) / std\n",
        "X_test = (X_test - mean) / std"
      ],
      "execution_count": 29,
      "outputs": []
    },
    {
      "cell_type": "code",
      "metadata": {
        "id": "UWCpLFzgAY7s"
      },
      "source": [
        "from sklearn.utils import shuffle"
      ],
      "execution_count": 30,
      "outputs": []
    },
    {
      "cell_type": "code",
      "metadata": {
        "id": "gH6umtnAAOUE"
      },
      "source": [
        "X_train, y_train = shuffle(X_train, y_train, random_state=0)"
      ],
      "execution_count": 31,
      "outputs": []
    },
    {
      "cell_type": "markdown",
      "metadata": {
        "id": "z3LJgeTlDdbu"
      },
      "source": [
        "# KNN"
      ]
    },
    {
      "cell_type": "code",
      "metadata": {
        "id": "cIxExoA_1lDd"
      },
      "source": [
        "from sklearn.neighbors import NearestNeighbors\n",
        "from sklearn.metrics import classification_report"
      ],
      "execution_count": 32,
      "outputs": []
    },
    {
      "cell_type": "code",
      "metadata": {
        "colab": {
          "base_uri": "https://localhost:8080/"
        },
        "id": "GftTMCFADYIp",
        "outputId": "68d93d32-3a13-4eaa-c027-8ec1f1c4f034"
      },
      "source": [
        "knn = KNeighborsClassifier(5, weights='distance')\n",
        "knn.fit(X_train, y_train)\n",
        "y_pred = knn.predict(X_test)\n",
        "accuracy_knn = accuracy_score(y_test, y_pred)\n",
        "print(\"\\nAccuracy: \", accuracy_knn)\n",
        "print('Classification Report')\n",
        "print(classification_report(y_test, y_pred))"
      ],
      "execution_count": 37,
      "outputs": [
        {
          "output_type": "stream",
          "name": "stdout",
          "text": [
            "\n",
            "Accuracy:  0.591304347826087\n",
            "Classification Report\n",
            "              precision    recall  f1-score   support\n",
            "\n",
            "           0       0.45      0.66      0.53        41\n",
            "           1       0.75      0.55      0.64        74\n",
            "\n",
            "    accuracy                           0.59       115\n",
            "   macro avg       0.60      0.61      0.59       115\n",
            "weighted avg       0.64      0.59      0.60       115\n",
            "\n"
          ]
        }
      ]
    },
    {
      "cell_type": "markdown",
      "metadata": {
        "id": "jdtOagcpV3rm"
      },
      "source": [
        "# Naive Bayes"
      ]
    },
    {
      "cell_type": "code",
      "metadata": {
        "id": "__OD6ZlG---J"
      },
      "source": [
        "from sklearn.naive_bayes import GaussianNB"
      ],
      "execution_count": 38,
      "outputs": []
    },
    {
      "cell_type": "code",
      "metadata": {
        "colab": {
          "base_uri": "https://localhost:8080/"
        },
        "id": "azydBgtqVwGN",
        "outputId": "147809d1-b97b-46a7-bcea-8983a468a863"
      },
      "source": [
        "nb = GaussianNB();\n",
        "nb.fit(X_train, y_train)\n",
        "y_pred = nb.predict(X_test)\n",
        "accuracy = accuracy_score(y_test, y_pred)\n",
        "print(\"\\nAccuracy: \", accuracy)\n",
        "print('Classification Report')\n",
        "print(classification_report(y_test, y_pred))"
      ],
      "execution_count": 39,
      "outputs": [
        {
          "output_type": "stream",
          "name": "stdout",
          "text": [
            "\n",
            "Accuracy:  0.5304347826086957\n",
            "Classification Report\n",
            "              precision    recall  f1-score   support\n",
            "\n",
            "           0       0.00      0.00      0.00        41\n",
            "           1       0.60      0.82      0.69        74\n",
            "\n",
            "    accuracy                           0.53       115\n",
            "   macro avg       0.30      0.41      0.35       115\n",
            "weighted avg       0.38      0.53      0.45       115\n",
            "\n"
          ]
        }
      ]
    },
    {
      "cell_type": "markdown",
      "metadata": {
        "id": "gIIe_xkKWDYi"
      },
      "source": [
        "# Support Vector Machine"
      ]
    },
    {
      "cell_type": "code",
      "metadata": {
        "id": "TvKWQC29_msE"
      },
      "source": [
        "from sklearn import svm"
      ],
      "execution_count": 40,
      "outputs": []
    },
    {
      "cell_type": "code",
      "metadata": {
        "colab": {
          "base_uri": "https://localhost:8080/"
        },
        "id": "LrBv33PKV-z6",
        "outputId": "39d65ab0-499a-44e6-dc7e-e7343481c7a2"
      },
      "source": [
        "svc = svm.SVC(kernel='poly', gamma='auto')\n",
        "svc.fit(X_train, y_train)\n",
        "y_pred = svc.predict(X_test)\n",
        "print(\"Confusion Matrix:\")\n",
        "accuracy = accuracy_score(y_test, y_pred)\n",
        "print(\"\\nAccuracy: \", accuracy)\n",
        "print('Classification Report')\n",
        "print(classification_report(y_test, y_pred))"
      ],
      "execution_count": 41,
      "outputs": [
        {
          "output_type": "stream",
          "name": "stdout",
          "text": [
            "Confusion Matrix:\n",
            "\n",
            "Accuracy:  0.5739130434782609\n",
            "Classification Report\n",
            "              precision    recall  f1-score   support\n",
            "\n",
            "           0       0.41      0.46      0.44        41\n",
            "           1       0.68      0.64      0.66        74\n",
            "\n",
            "    accuracy                           0.57       115\n",
            "   macro avg       0.55      0.55      0.55       115\n",
            "weighted avg       0.59      0.57      0.58       115\n",
            "\n"
          ]
        }
      ]
    },
    {
      "cell_type": "markdown",
      "metadata": {
        "id": "4iMF0pHAWKKd"
      },
      "source": [
        "# Perceptron"
      ]
    },
    {
      "cell_type": "code",
      "metadata": {
        "id": "wf2fSGAf_wNj"
      },
      "source": [
        "from sklearn.linear_model import Perceptron"
      ],
      "execution_count": 42,
      "outputs": []
    },
    {
      "cell_type": "code",
      "metadata": {
        "colab": {
          "base_uri": "https://localhost:8080/"
        },
        "id": "mdYKspi4WN1d",
        "outputId": "1f8a29c9-3398-4ff0-b6b3-77ef8fcfafa6"
      },
      "source": [
        "knn = Perceptron(shuffle=True) # training data are shuffled at each epoch.\n",
        "knn.fit(X_train, y_train)\n",
        "y_pred = knn.predict(X_test)\n",
        "print(\"Confusion Matrix:\")\n",
        "accuracy = accuracy_score(y_test, y_pred)\n",
        "print(\"\\nAccuracy: \", accuracy)\n",
        "print('Classification Report')\n",
        "print(classification_report(y_test, y_pred))\n",
        "\n",
        "# The Perceptron required shuffling of the training to make the gradient descent work in the proper way.\n",
        "\n",
        "# For what concerns the other algorithms, instead, shuffling didn't bring any advantage/difference in the performances"
      ],
      "execution_count": 43,
      "outputs": [
        {
          "output_type": "stream",
          "name": "stdout",
          "text": [
            "Confusion Matrix:\n",
            "\n",
            "Accuracy:  0.8608695652173913\n",
            "Classification Report\n",
            "              precision    recall  f1-score   support\n",
            "\n",
            "           0       0.88      0.71      0.78        41\n",
            "           1       0.85      0.95      0.90        74\n",
            "\n",
            "    accuracy                           0.86       115\n",
            "   macro avg       0.87      0.83      0.84       115\n",
            "weighted avg       0.86      0.86      0.86       115\n",
            "\n"
          ]
        }
      ]
    },
    {
      "cell_type": "markdown",
      "metadata": {
        "id": "BiS9hJCBWdbn"
      },
      "source": [
        "# Logistic Regression"
      ]
    },
    {
      "cell_type": "code",
      "metadata": {
        "id": "-dPokoWzAqQJ"
      },
      "source": [
        "from sklearn.linear_model import LogisticRegression"
      ],
      "execution_count": 44,
      "outputs": []
    },
    {
      "cell_type": "code",
      "metadata": {
        "colab": {
          "base_uri": "https://localhost:8080/"
        },
        "id": "EPf3wxXwWaA9",
        "outputId": "80625597-d8a3-4939-deda-a180675e0112"
      },
      "source": [
        "log = LogisticRegression(C=1e5, solver='saga', max_iter=100, verbose=0)\n",
        "log.fit(X_train, y_train)\n",
        "y_pred = log.predict(X_test)\n",
        "print(\"Confusion Matrix:\")\n",
        "accuracy = accuracy_score(y_test, y_pred)\n",
        "print(\"\\nAccuracy: \", accuracy)\n",
        "print('Classification Report')\n",
        "print(classification_report(y_test, y_pred))"
      ],
      "execution_count": 45,
      "outputs": [
        {
          "output_type": "stream",
          "name": "stdout",
          "text": [
            "Confusion Matrix:\n",
            "\n",
            "Accuracy:  0.6608695652173913\n",
            "Classification Report\n",
            "              precision    recall  f1-score   support\n",
            "\n",
            "           0       0.75      0.07      0.13        41\n",
            "           1       0.66      0.99      0.79        74\n",
            "\n",
            "    accuracy                           0.66       115\n",
            "   macro avg       0.70      0.53      0.46       115\n",
            "weighted avg       0.69      0.66      0.56       115\n",
            "\n"
          ]
        }
      ]
    },
    {
      "cell_type": "markdown",
      "metadata": {
        "id": "coHJvaePB4aH"
      },
      "source": [
        "# Random Forest"
      ]
    },
    {
      "cell_type": "code",
      "metadata": {
        "id": "izehaTS6B4F6"
      },
      "source": [
        "from sklearn.ensemble import RandomForestClassifier"
      ],
      "execution_count": 46,
      "outputs": []
    },
    {
      "cell_type": "code",
      "metadata": {
        "colab": {
          "base_uri": "https://localhost:8080/"
        },
        "id": "Xjs6pR6PCBOH",
        "outputId": "b718ed09-c2d7-4060-ff1c-3986c7d4d526"
      },
      "source": [
        "forest = RandomForestClassifier(max_depth=10, n_estimators=100, random_state=0)\n",
        "forest.fit(X_train, y_train)\n",
        "y_pred = forest.predict(X_test)\n",
        "print(\"Confusion Matrix:\")\n",
        "accuracy = accuracy_score(y_test, y_pred)\n",
        "print(\"\\nAccuracy: \", accuracy)\n",
        "print('Classification Report')\n",
        "print(classification_report(y_test, y_pred))"
      ],
      "execution_count": 47,
      "outputs": [
        {
          "output_type": "stream",
          "name": "stdout",
          "text": [
            "Confusion Matrix:\n",
            "\n",
            "Accuracy:  0.7130434782608696\n",
            "Classification Report\n",
            "              precision    recall  f1-score   support\n",
            "\n",
            "           0       0.57      0.78      0.66        41\n",
            "           1       0.85      0.68      0.75        74\n",
            "\n",
            "    accuracy                           0.71       115\n",
            "   macro avg       0.71      0.73      0.71       115\n",
            "weighted avg       0.75      0.71      0.72       115\n",
            "\n"
          ]
        }
      ]
    },
    {
      "cell_type": "code",
      "metadata": {
        "colab": {
          "base_uri": "https://localhost:8080/",
          "height": 297
        },
        "id": "R3ZbPml2Cp4m",
        "outputId": "71d721cf-d76d-464c-a2d9-5a4d3f2b08ce"
      },
      "source": [
        "importances = forest.feature_importances_\n",
        "forest_importances = pd.Series(importances)\n",
        "\n",
        "fig, ax = plt.subplots()\n",
        "forest_importances.plot.bar(yerr=std, ax=ax)\n",
        "ax.set_title(\"Feature importances using MDI\")\n",
        "ax.set_ylabel(\"Mean decrease in impurity\")\n",
        "fig.tight_layout()"
      ],
      "execution_count": 48,
      "outputs": [
        {
          "output_type": "display_data",
          "data": {
            "image/png": "[encoded data removed]",
            "text/plain": [
              "<Figure size 432x288 with 1 Axes>"
            ]
          },
          "metadata": {
            "needs_background": "light"
          }
        }
      ]
    },
    {
      "cell_type": "markdown",
      "metadata": {
        "id": "zYvw6UgKWkXC"
      },
      "source": [
        "# Neural Network"
      ]
    },
    {
      "cell_type": "code",
      "metadata": {
        "id": "m-FlrROuBSSK"
      },
      "source": [
        "from sklearn.neural_network import MLPClassifier"
      ],
      "execution_count": 49,
      "outputs": []
    },
    {
      "cell_type": "code",
      "metadata": {
        "colab": {
          "base_uri": "https://localhost:8080/"
        },
        "id": "spKOiCYiWqDO",
        "outputId": "2c733fc5-b3b5-4e0f-d51e-5ff7efe192f9"
      },
      "source": [
        "mlp = MLPClassifier(random_state=1, hidden_layer_sizes=256, max_iter=500)\n",
        "mlp.fit(X_train, y_train)\n",
        "y_pred = mlp.predict(X_test)\n",
        "print(\"Confusion Matrix:\")\n",
        "accuracy = accuracy_score(y_test, y_pred)\n",
        "print(\"\\nAccuracy: \", accuracy)\n",
        "print('Classification Report')\n",
        "print(classification_report(y_test, y_pred))"
      ],
      "execution_count": 50,
      "outputs": [
        {
          "output_type": "stream",
          "name": "stdout",
          "text": [
            "Confusion Matrix:\n",
            "\n",
            "Accuracy:  0.7652173913043478\n",
            "Classification Report\n",
            "              precision    recall  f1-score   support\n",
            "\n",
            "           0       0.85      0.41      0.56        41\n",
            "           1       0.75      0.96      0.84        74\n",
            "\n",
            "    accuracy                           0.77       115\n",
            "   macro avg       0.80      0.69      0.70       115\n",
            "weighted avg       0.78      0.77      0.74       115\n",
            "\n"
          ]
        }
      ]
    },
    {
      "cell_type": "code",
      "metadata": {
        "id": "mlDWDLyfWtmF"
      },
      "source": [
        "def plot_history(history, title):\n",
        "    f, (ax1, ax2) = plt.subplots(1, 2, figsize=(16, 4))\n",
        "    t = f.suptitle(title, fontsize=12)\n",
        "    f.subplots_adjust(top=0.85, wspace=0.3)\n",
        "\n",
        "    max_epoch = len(history.history['accuracy'])+1\n",
        "    epoch_list = list(range(1,max_epoch))\n",
        "    ax1.plot(epoch_list, history.history['accuracy'], label='Train Accuracy')\n",
        "    ax1.plot(epoch_list, history.history['val_accuracy'], label='Validation Accuracy')\n",
        "    ax1.set_xticks(np.arange(1, max_epoch, 5))\n",
        "    ax1.set_ylabel('Accuracy Value')\n",
        "    ax1.set_xlabel('Epoch')\n",
        "    ax1.set_title('Accuracy')\n",
        "    l1 = ax1.legend(loc=\"best\")\n",
        "\n",
        "    ax2.plot(epoch_list, history.history['loss'], label='Train Loss')\n",
        "    ax2.plot(epoch_list, history.history['val_loss'], label='Validation Loss')\n",
        "    ax2.set_xticks(np.arange(1, max_epoch, 5))\n",
        "    ax2.set_ylabel('Loss Value')\n",
        "    ax2.set_xlabel('Epoch')\n",
        "    ax2.set_title('Loss')\n",
        "    l2 = ax2.legend(loc=\"best\")\n"
      ],
      "execution_count": 51,
      "outputs": []
    },
    {
      "cell_type": "markdown",
      "metadata": {
        "id": "oLf5JHzxWxJm"
      },
      "source": [
        "# Convolutional Neural Network\n",
        "\n"
      ]
    },
    {
      "cell_type": "code",
      "metadata": {
        "id": "HzdNsF3ZP-hp"
      },
      "source": [
        "train_min_len = train.feature_len.min()\n",
        "test_min_len = test.feature_len.min()"
      ],
      "execution_count": 52,
      "outputs": []
    },
    {
      "cell_type": "code",
      "metadata": {
        "colab": {
          "base_uri": "https://localhost:8080/"
        },
        "id": "eqc5InzgRDbx",
        "outputId": "2454a5e0-4121-4f2e-e070-f540382254ba"
      },
      "source": [
        "train_min_len, test_min_len"
      ],
      "execution_count": 55,
      "outputs": [
        {
          "output_type": "execute_result",
          "data": {
            "text/plain": [
              "(46, 68)"
            ]
          },
          "metadata": {},
          "execution_count": 55
        }
      ]
    },
    {
      "cell_type": "code",
      "metadata": {
        "id": "Rjpbcv5XQc9z"
      },
      "source": [
        "len_ = 10\n",
        "X_train_nn = []\n",
        "y_train_nn = []\n",
        "for i, row in train.iterrows():\n",
        "  len = row\n",
        "  for i in  range(0, row.feature_len-len_, len_):\n",
        "    if i + len_ < row.feature_len:\n",
        "      X_train_nn.append(row.features[:, i:(i+len_)])\n",
        "  # X_train_nn.append(row.mean_features)\n",
        "      y_train_nn.append(row.gender)\n",
        "\n",
        "X_test_nn = []\n",
        "y_test_nn = []\n",
        "for i, row in test.iterrows():\n",
        "  len = row\n",
        "  for i in range(0, row.feature_len-len_, len_):\n",
        "    if i + len_ < row.feature_len:\n",
        "      X_test_nn.append(row.features[:, i:(i+len_)])\n",
        "  # X_train_nn.append(row.mean_features)\n",
        "      y_test_nn.append(row.gender)\n",
        "\n",
        "X_train_nn = np.array(X_train_nn)\n",
        "y_train_nn = np.array(y_train_nn)\n",
        "\n",
        "\n",
        "y_test_nn = np.array(y_test_nn)\n",
        "X_test_nn = np.array(X_test_nn)"
      ],
      "execution_count": 98,
      "outputs": []
    },
    {
      "cell_type": "code",
      "metadata": {
        "colab": {
          "base_uri": "https://localhost:8080/"
        },
        "id": "crCIiDr7nFzJ",
        "outputId": "c0e38755-fd10-41b1-dbd2-bf8b6333d86b"
      },
      "source": [
        "X_train_nn[1324].shape"
      ],
      "execution_count": 99,
      "outputs": [
        {
          "output_type": "execute_result",
          "data": {
            "text/plain": [
              "(20, 10)"
            ]
          },
          "metadata": {},
          "execution_count": 99
        }
      ]
    },
    {
      "cell_type": "code",
      "metadata": {
        "colab": {
          "base_uri": "https://localhost:8080/"
        },
        "id": "BDqhQsi4P31n",
        "outputId": "c830bcfd-0bfb-481e-a40b-05b0e75e58a2"
      },
      "source": [
        "X_train_nn.shape, y_train_nn.shape, X_test_nn.shape, y_test_nn.shape"
      ],
      "execution_count": 100,
      "outputs": [
        {
          "output_type": "execute_result",
          "data": {
            "text/plain": [
              "((54772, 20, 10), (54772,), (4534, 20, 10), (4534,))"
            ]
          },
          "metadata": {},
          "execution_count": 100
        }
      ]
    },
    {
      "cell_type": "code",
      "metadata": {
        "id": "unPDGYeCL-xv"
      },
      "source": [
        "X_train_nn = X_train_nn.reshape(X_train_nn.shape[0], -1, 20)\n",
        "X_test_nn = X_test_nn.reshape(X_test_nn.shape[0], -1, 20)"
      ],
      "execution_count": 101,
      "outputs": []
    },
    {
      "cell_type": "code",
      "metadata": {
        "id": "tLVM0jjvS_qV"
      },
      "source": [
        "X_train_nn = (X_train_nn- mean[None, None, :])/std[None, None, :]\n",
        "X_test_nn = (X_test_nn- mean[None, None, :])/std[None, None, :]\n"
      ],
      "execution_count": 102,
      "outputs": []
    },
    {
      "cell_type": "code",
      "metadata": {
        "id": "EEXkCOKDfIa5"
      },
      "source": [
        "#X_train_nn = (X_train_nn- mean[None, :])/std[None, :]\n",
        "#X_test_nn = (X_test_nn- mean[None, :])/std[None, :]\n"
      ],
      "execution_count": 103,
      "outputs": []
    },
    {
      "cell_type": "code",
      "metadata": {
        "colab": {
          "base_uri": "https://localhost:8080/"
        },
        "id": "3t53tl39SCYB",
        "outputId": "f8c2d7eb-d6eb-476c-938c-a2a7de7d57ea"
      },
      "source": [
        "X_train_nn.shape, y_train.shape, X_test_nn.shape, y_test.shape"
      ],
      "execution_count": 104,
      "outputs": [
        {
          "output_type": "execute_result",
          "data": {
            "text/plain": [
              "((54772, 10, 20), (2588,), (4534, 10, 20), (115,))"
            ]
          },
          "metadata": {},
          "execution_count": 104
        }
      ]
    },
    {
      "cell_type": "code",
      "metadata": {
        "id": "6ll0WDZZVrGA"
      },
      "source": [
        "X_train_nn, y_train_nn = shuffle(X_train_nn, y_train_nn, random_state=1234)"
      ],
      "execution_count": 105,
      "outputs": []
    },
    {
      "cell_type": "code",
      "metadata": {
        "colab": {
          "base_uri": "https://localhost:8080/"
        },
        "id": "5AyoPdhIcS2N",
        "outputId": "3a45cced-d49d-432d-a983-0c7bd0929f55"
      },
      "source": [
        "X_train_nn = X_train_nn.reshape(X_train_nn.shape[0], len_*20)\n",
        "X_test_nn = X_test_nn.reshape(X_test_nn.shape[0], len_ * 20)\n",
        "\n",
        "\n",
        "model = Sequential()\n",
        "model.add(Dense(16, input_dim=200, activation='relu'))\n",
        "# model.add(Dense(32, activation='relu'))\n",
        "model.add(Dense(1, activation='sigmoid'))\n",
        "    # Compile model\n",
        "model.compile(loss='binary_crossentropy', optimizer='adam', metrics=['accuracy'])\n",
        "print(model.summary())"
      ],
      "execution_count": 106,
      "outputs": [
        {
          "output_type": "stream",
          "name": "stdout",
          "text": [
            "Model: \"sequential_4\"\n",
            "_________________________________________________________________\n",
            "Layer (type)                 Output Shape              Param #   \n",
            "=================================================================\n",
            "dense_9 (Dense)              (None, 16)                3216      \n",
            "_________________________________________________________________\n",
            "dense_10 (Dense)             (None, 1)                 17        \n",
            "=================================================================\n",
            "Total params: 3,233\n",
            "Trainable params: 3,233\n",
            "Non-trainable params: 0\n",
            "_________________________________________________________________\n",
            "None\n"
          ]
        }
      ]
    },
    {
      "cell_type": "code",
      "metadata": {
        "colab": {
          "base_uri": "https://localhost:8080/"
        },
        "id": "zs6U8yt0deaL",
        "outputId": "0fdaf1eb-7a25-4614-b554-1d17288fa92c"
      },
      "source": [
        "score = model.evaluate(X_test_nn, y_test_nn, verbose=0)\n",
        "accuracy = 100*score[1]\n",
        "print(\"Pre-training accuracy: %.4f%%\" % accuracy)"
      ],
      "execution_count": 107,
      "outputs": [
        {
          "output_type": "stream",
          "name": "stdout",
          "text": [
            "Pre-training accuracy: 56.1976%\n"
          ]
        }
      ]
    },
    {
      "cell_type": "code",
      "metadata": {
        "colab": {
          "base_uri": "https://localhost:8080/"
        },
        "id": "O9q6OLUZdggv",
        "outputId": "87a5376b-a0f9-4130-aaa3-0111709348ea"
      },
      "source": [
        "num_epochs = 20\n",
        "num_batch_size = 128\n",
        "es = tf.keras.callbacks.EarlyStopping(monitor='val_loss', mode='min', verbose=1, patience=50)\n",
        "# In min mode, training will stop when the val_loss has stopped decreasing\n",
        "# Patience is the number of epochs without improvement after which training will be stopped.\n",
        "\n",
        "history = model.fit(X_train_nn, y_train_nn, epochs=num_epochs, batch_size=num_batch_size, validation_data=(X_test_nn, y_test_nn), callbacks=[es])"
      ],
      "execution_count": 108,
      "outputs": [
        {
          "output_type": "stream",
          "name": "stdout",
          "text": [
            "Epoch 1/20\n",
            "428/428 [==============================] - 1s 2ms/step - loss: 0.4674 - accuracy: 0.7792 - val_loss: 1.0166 - val_accuracy: 0.5132\n",
            "Epoch 2/20\n",
            "428/428 [==============================] - 1s 2ms/step - loss: 0.3407 - accuracy: 0.8461 - val_loss: 1.1187 - val_accuracy: 0.5300\n",
            "Epoch 3/20\n",
            "428/428 [==============================] - 1s 2ms/step - loss: 0.2967 - accuracy: 0.8691 - val_loss: 1.2879 - val_accuracy: 0.4971\n",
            "Epoch 4/20\n",
            "428/428 [==============================] - 1s 2ms/step - loss: 0.2752 - accuracy: 0.8788 - val_loss: 1.2676 - val_accuracy: 0.5212\n",
            "Epoch 5/20\n",
            "428/428 [==============================] - 1s 2ms/step - loss: 0.2636 - accuracy: 0.8848 - val_loss: 1.4057 - val_accuracy: 0.5055\n",
            "Epoch 6/20\n",
            "428/428 [==============================] - 1s 2ms/step - loss: 0.2553 - accuracy: 0.8892 - val_loss: 1.2718 - val_accuracy: 0.5357\n",
            "Epoch 7/20\n",
            "428/428 [==============================] - 1s 2ms/step - loss: 0.2504 - accuracy: 0.8913 - val_loss: 1.2948 - val_accuracy: 0.5225\n",
            "Epoch 8/20\n",
            "428/428 [==============================] - 1s 2ms/step - loss: 0.2467 - accuracy: 0.8930 - val_loss: 1.2556 - val_accuracy: 0.5479\n",
            "Epoch 9/20\n",
            "428/428 [==============================] - 1s 2ms/step - loss: 0.2431 - accuracy: 0.8945 - val_loss: 1.3276 - val_accuracy: 0.5373\n",
            "Epoch 10/20\n",
            "428/428 [==============================] - 1s 2ms/step - loss: 0.2391 - accuracy: 0.8959 - val_loss: 1.3309 - val_accuracy: 0.5329\n",
            "Epoch 11/20\n",
            "428/428 [==============================] - 1s 2ms/step - loss: 0.2357 - accuracy: 0.8985 - val_loss: 1.5746 - val_accuracy: 0.5053\n",
            "Epoch 12/20\n",
            "428/428 [==============================] - 1s 2ms/step - loss: 0.2334 - accuracy: 0.8994 - val_loss: 1.4354 - val_accuracy: 0.5205\n",
            "Epoch 13/20\n",
            "428/428 [==============================] - 1s 2ms/step - loss: 0.2300 - accuracy: 0.9012 - val_loss: 1.3872 - val_accuracy: 0.5331\n",
            "Epoch 14/20\n",
            "428/428 [==============================] - 1s 2ms/step - loss: 0.2294 - accuracy: 0.9006 - val_loss: 1.5461 - val_accuracy: 0.5112\n",
            "Epoch 15/20\n",
            "428/428 [==============================] - 1s 2ms/step - loss: 0.2271 - accuracy: 0.9015 - val_loss: 1.3779 - val_accuracy: 0.5355\n",
            "Epoch 16/20\n",
            "428/428 [==============================] - 1s 2ms/step - loss: 0.2256 - accuracy: 0.9039 - val_loss: 1.5329 - val_accuracy: 0.5238\n",
            "Epoch 17/20\n",
            "428/428 [==============================] - 1s 2ms/step - loss: 0.2243 - accuracy: 0.9033 - val_loss: 1.5983 - val_accuracy: 0.5223\n",
            "Epoch 18/20\n",
            "428/428 [==============================] - 1s 2ms/step - loss: 0.2233 - accuracy: 0.9043 - val_loss: 1.5318 - val_accuracy: 0.5159\n",
            "Epoch 19/20\n",
            "428/428 [==============================] - 1s 2ms/step - loss: 0.2212 - accuracy: 0.9054 - val_loss: 1.5282 - val_accuracy: 0.5179\n",
            "Epoch 20/20\n",
            "428/428 [==============================] - 1s 2ms/step - loss: 0.2196 - accuracy: 0.9043 - val_loss: 1.4265 - val_accuracy: 0.5309\n"
          ]
        }
      ]
    },
    {
      "cell_type": "code",
      "metadata": {
        "colab": {
          "base_uri": "https://localhost:8080/"
        },
        "id": "jpESWc_edoo1",
        "outputId": "933bbde4-baff-4cf9-adea-9bf1e49d0bbe"
      },
      "source": [
        "score = model.evaluate(X_test_nn, y_test_nn, verbose=0)\n",
        "accuracy_mlp = 100*score[1]\n",
        "\n",
        "print(\"Pre-training accuracy: %.4f%%\" % accuracy)\n",
        "print(\"Post-training accuracy: %.4f%%\" % accuracy_mlp)"
      ],
      "execution_count": 109,
      "outputs": [
        {
          "output_type": "stream",
          "name": "stdout",
          "text": [
            "Pre-training accuracy: 56.1976%\n",
            "Post-training accuracy: 53.0878%\n"
          ]
        }
      ]
    },
    {
      "cell_type": "code",
      "metadata": {
        "colab": {
          "base_uri": "https://localhost:8080/"
        },
        "id": "qpw_jvLRW5oP",
        "outputId": "8379a6ad-c489-4402-aa28-acb967480bcc"
      },
      "source": [
        "X_train_nn = X_train_nn.reshape(X_train_nn.shape[0],-1, 20)\n",
        "X_test_nn = X_test_nn.reshape(X_test_nn.shape[0],-1, 20)\n",
        "\n",
        "model = Sequential()\n",
        "model.add(Conv1D(16, 2, activation='relu', input_shape=(None,20)))\n",
        "model.add(BatchNormalization())\n",
        "# model.add(MaxPool1D())\n",
        "model.add(Dropout(0.5))\n",
        "model.add(Conv1D(16, 2, activation='relu', input_shape=(None, 16)))\n",
        "model.add(BatchNormalization())\n",
        "# model.add(MaxPool1D())\n",
        "model.add(Dropout(0.5))\n",
        "model.add(GlobalMaxPool1D())\n",
        "model.add(Dropout(0.5))\n",
        "model.add(Dense(1, activation='sigmoid'))\n",
        "\n",
        "model.compile(loss='binary_crossentropy', optimizer='adam', metrics=['accuracy'])\n",
        "print(model.summary())"
      ],
      "execution_count": 543,
      "outputs": [
        {
          "output_type": "stream",
          "name": "stdout",
          "text": [
            "Model: \"sequential_92\"\n",
            "_________________________________________________________________\n",
            "Layer (type)                 Output Shape              Param #   \n",
            "=================================================================\n",
            "conv1d_119 (Conv1D)          (None, None, 16)          656       \n",
            "_________________________________________________________________\n",
            "batch_normalization_31 (Batc (None, None, 16)          64        \n",
            "_________________________________________________________________\n",
            "dropout_49 (Dropout)         (None, None, 16)          0         \n",
            "_________________________________________________________________\n",
            "conv1d_120 (Conv1D)          (None, None, 16)          528       \n",
            "_________________________________________________________________\n",
            "batch_normalization_32 (Batc (None, None, 16)          64        \n",
            "_________________________________________________________________\n",
            "dropout_50 (Dropout)         (None, None, 16)          0         \n",
            "_________________________________________________________________\n",
            "global_max_pooling1d_44 (Glo (None, 16)                0         \n",
            "_________________________________________________________________\n",
            "dropout_51 (Dropout)         (None, 16)                0         \n",
            "_________________________________________________________________\n",
            "dense_83 (Dense)             (None, 1)                 17        \n",
            "=================================================================\n",
            "Total params: 1,329\n",
            "Trainable params: 1,265\n",
            "Non-trainable params: 64\n",
            "_________________________________________________________________\n",
            "None\n"
          ]
        }
      ]
    },
    {
      "cell_type": "code",
      "metadata": {
        "colab": {
          "base_uri": "https://localhost:8080/"
        },
        "id": "v3YifQXzXA-w",
        "outputId": "91db1f04-28cb-49bd-b46d-70cd6dd75644"
      },
      "source": [
        "score = model.evaluate(X_test_nn, y_test_nn, verbose=0)\n",
        "accuracy = 100*score[1]\n",
        "print(\"Pre-training accuracy: %.4f%%\" % accuracy)"
      ],
      "execution_count": 544,
      "outputs": [
        {
          "output_type": "stream",
          "name": "stdout",
          "text": [
            "Pre-training accuracy: 64.5652%\n"
          ]
        }
      ]
    },
    {
      "cell_type": "code",
      "metadata": {
        "colab": {
          "base_uri": "https://localhost:8080/"
        },
        "id": "_5Q2ckGhXCZg",
        "outputId": "7a791a14-df65-4922-f08e-528295e16fce"
      },
      "source": [
        "num_epochs = 20\n",
        "num_batch_size = 16\n",
        "es = tf.keras.callbacks.EarlyStopping(monitor='val_loss', mode='min', verbose=1, patience=10)\n",
        "# In min mode, training will stop when the val_loss has stopped decreasing\n",
        "# Patience is the number of epochs without improvement after which training will be stopped.\n",
        "\n",
        "history = model.fit(X_train_nn, y_train_nn, epochs=num_epochs, batch_size=num_batch_size, validation_data=(X_test_nn, y_test_nn), callbacks=[es])"
      ],
      "execution_count": 546,
      "outputs": [
        {
          "output_type": "stream",
          "name": "stdout",
          "text": [
            "Epoch 1/20\n",
            "647/647 [==============================] - 3s 3ms/step - loss: 0.8776 - accuracy: 0.7554 - val_loss: 0.8128 - val_accuracy: 0.6435\n",
            "Epoch 2/20\n",
            "647/647 [==============================] - 2s 3ms/step - loss: 0.4668 - accuracy: 0.8425 - val_loss: 0.7265 - val_accuracy: 0.6435\n",
            "Epoch 3/20\n",
            "647/647 [==============================] - 2s 3ms/step - loss: 0.3993 - accuracy: 0.8692 - val_loss: 0.7301 - val_accuracy: 0.6435\n",
            "Epoch 4/20\n",
            "647/647 [==============================] - 2s 3ms/step - loss: 0.3824 - accuracy: 0.8712 - val_loss: 0.7317 - val_accuracy: 0.6435\n",
            "Epoch 5/20\n",
            "647/647 [==============================] - 2s 3ms/step - loss: 0.3720 - accuracy: 0.8712 - val_loss: 0.7530 - val_accuracy: 0.6435\n",
            "Epoch 6/20\n",
            "647/647 [==============================] - 2s 3ms/step - loss: 0.3678 - accuracy: 0.8712 - val_loss: 0.7493 - val_accuracy: 0.6435\n",
            "Epoch 7/20\n",
            "647/647 [==============================] - 2s 3ms/step - loss: 0.3654 - accuracy: 0.8712 - val_loss: 0.7749 - val_accuracy: 0.6435\n",
            "Epoch 8/20\n",
            "647/647 [==============================] - 2s 3ms/step - loss: 0.3614 - accuracy: 0.8712 - val_loss: 0.8047 - val_accuracy: 0.6435\n",
            "Epoch 9/20\n",
            "647/647 [==============================] - 2s 3ms/step - loss: 0.3583 - accuracy: 0.8712 - val_loss: 0.7675 - val_accuracy: 0.6435\n",
            "Epoch 10/20\n",
            "647/647 [==============================] - 2s 3ms/step - loss: 0.3576 - accuracy: 0.8712 - val_loss: 0.8069 - val_accuracy: 0.6435\n",
            "Epoch 11/20\n",
            "647/647 [==============================] - 2s 3ms/step - loss: 0.3575 - accuracy: 0.8712 - val_loss: 0.8417 - val_accuracy: 0.6435\n",
            "Epoch 12/20\n",
            "647/647 [==============================] - 2s 3ms/step - loss: 0.3509 - accuracy: 0.8712 - val_loss: 0.8400 - val_accuracy: 0.6435\n",
            "Epoch 00012: early stopping\n"
          ]
        }
      ]
    },
    {
      "cell_type": "code",
      "metadata": {
        "colab": {
          "base_uri": "https://localhost:8080/"
        },
        "id": "9SMOuRy1XIKf",
        "outputId": "c88e6af4-a65d-4cc0-f6b6-4fbd2d0c0dfd"
      },
      "source": [
        "score = model.evaluate(X_test_nn, y_test_nn, verbose=0)\n",
        "accuracy_cnn = 100*score[1]\n",
        "\n",
        "print(\"Pre-training accuracy: %.4f%%\" % accuracy)\n",
        "print(\"Post-training accuracy: %.4f%%\" % accuracy_cnn)"
      ],
      "execution_count": 548,
      "outputs": [
        {
          "output_type": "stream",
          "name": "stdout",
          "text": [
            "Pre-training accuracy: 64.5652%\n",
            "Post-training accuracy: 64.3478%\n"
          ]
        }
      ]
    },
    {
      "cell_type": "code",
      "metadata": {
        "colab": {
          "base_uri": "https://localhost:8080/",
          "height": 308
        },
        "id": "1qB_k991XLGA",
        "outputId": "279a9943-7bde-4372-e86b-0317599fa383"
      },
      "source": [
        "title='Convolutional Neural Network Performance'\n",
        "plot_history(history, title)"
      ],
      "execution_count": 549,
      "outputs": [
        {
          "output_type": "display_data",
          "data": {
            "image/png": "[encoded data removed]",
            "text/plain": [
              "<Figure size 1152x288 with 2 Axes>"
            ]
          },
          "metadata": {
            "needs_background": "light"
          }
        }
      ]
    },
    {
      "cell_type": "code",
      "metadata": {
        "colab": {
          "base_uri": "https://localhost:8080/",
          "height": 266
        },
        "id": "O3YmbJlZXObe",
        "outputId": "bdeccd94-e6d6-44d1-a43b-173019272ea8"
      },
      "source": [
        "print(\"\\nK-Nearest Neighbors accuracy: %.4f%%\" % (accuracy_knn*100))\n",
        "print(\"\\nNaive-Bayes accuracy: %.4f%%\" % (accuracy_nb*100))\n",
        "print(\"\\nSupport Vector Machine accuracy: %.4f%%\" % (accuracy_svm*100))\n",
        "print(\"\\nPerceptron: %.4f%%\" % (accuracy_perceptron*100))\n",
        "print(\"\\nLogistic Regression accuracy: %.4f%%\" % (accuracy_log*100))\n",
        "print(\"\\nMulti-layer Perceptron accuracy: %.4f%%\" % (accuracy_mlp*100))\n",
        "print(\"\\nConvolutional Neural Network accuracy: %.4f%%\" % accuracy_cnn)"
      ],
      "execution_count": 551,
      "outputs": [
        {
          "output_type": "stream",
          "name": "stdout",
          "text": [
            "\n",
            "K-Nearest Neighbors accuracy: 59.1304%\n"
          ]
        },
        {
          "output_type": "error",
          "ename": "NameError",
          "evalue": "ignored",
          "traceback": [
            "\u001b[0;31m---------------------------------------------------------------------------\u001b[0m",
            "\u001b[0;31mNameError\u001b[0m                                 Traceback (most recent call last)",
            "\u001b[0;32m<ipython-input-551-d64894ebf7a8>\u001b[0m in \u001b[0;36m<module>\u001b[0;34m()\u001b[0m\n\u001b[1;32m      1\u001b[0m \u001b[0mprint\u001b[0m\u001b[0;34m(\u001b[0m\u001b[0;34m\"\\nK-Nearest Neighbors accuracy: %.4f%%\"\u001b[0m \u001b[0;34m%\u001b[0m \u001b[0;34m(\u001b[0m\u001b[0maccuracy_knn\u001b[0m\u001b[0;34m*\u001b[0m\u001b[0;36m100\u001b[0m\u001b[0;34m)\u001b[0m\u001b[0;34m)\u001b[0m\u001b[0;34m\u001b[0m\u001b[0;34m\u001b[0m\u001b[0m\n\u001b[0;32m----> 2\u001b[0;31m \u001b[0mprint\u001b[0m\u001b[0;34m(\u001b[0m\u001b[0;34m\"\\nNaive-Bayes accuracy: %.4f%%\"\u001b[0m \u001b[0;34m%\u001b[0m \u001b[0;34m(\u001b[0m\u001b[0maccuracy_nb\u001b[0m\u001b[0;34m*\u001b[0m\u001b[0;36m100\u001b[0m\u001b[0;34m)\u001b[0m\u001b[0;34m)\u001b[0m\u001b[0;34m\u001b[0m\u001b[0;34m\u001b[0m\u001b[0m\n\u001b[0m\u001b[1;32m      3\u001b[0m \u001b[0mprint\u001b[0m\u001b[0;34m(\u001b[0m\u001b[0;34m\"\\nSupport Vector Machine accuracy: %.4f%%\"\u001b[0m \u001b[0;34m%\u001b[0m \u001b[0;34m(\u001b[0m\u001b[0maccuracy_svm\u001b[0m\u001b[0;34m*\u001b[0m\u001b[0;36m100\u001b[0m\u001b[0;34m)\u001b[0m\u001b[0;34m)\u001b[0m\u001b[0;34m\u001b[0m\u001b[0;34m\u001b[0m\u001b[0m\n\u001b[1;32m      4\u001b[0m \u001b[0mprint\u001b[0m\u001b[0;34m(\u001b[0m\u001b[0;34m\"\\nPerceptron: %.4f%%\"\u001b[0m \u001b[0;34m%\u001b[0m \u001b[0;34m(\u001b[0m\u001b[0maccuracy_perceptron\u001b[0m\u001b[0;34m*\u001b[0m\u001b[0;36m100\u001b[0m\u001b[0;34m)\u001b[0m\u001b[0;34m)\u001b[0m\u001b[0;34m\u001b[0m\u001b[0;34m\u001b[0m\u001b[0m\n\u001b[1;32m      5\u001b[0m \u001b[0mprint\u001b[0m\u001b[0;34m(\u001b[0m\u001b[0;34m\"\\nLogistic Regression accuracy: %.4f%%\"\u001b[0m \u001b[0;34m%\u001b[0m \u001b[0;34m(\u001b[0m\u001b[0maccuracy_log\u001b[0m\u001b[0;34m*\u001b[0m\u001b[0;36m100\u001b[0m\u001b[0;34m)\u001b[0m\u001b[0;34m)\u001b[0m\u001b[0;34m\u001b[0m\u001b[0;34m\u001b[0m\u001b[0m\n",
            "\u001b[0;31mNameError\u001b[0m: name 'accuracy_nb' is not defined"
          ]
        }
      ]
    },
    {
      "cell_type": "markdown",
      "metadata": {
        "id": "nybLK5fB0POB"
      },
      "source": [
        "# TASK II\n"
      ]
    },
    {
      "cell_type": "code",
      "metadata": {
        "id": "m28GP94FR-Qh"
      },
      "source": [
        "def token_features(token, part_of_speech):\n",
        "    if token.isdigit():\n",
        "        yield \"numeric\"\n",
        "    else:\n",
        "        yield \"token={}\".format(token.lower())\n",
        "        yield \"token,pos={},{}\".format(token, part_of_speech)\n",
        "    if token[0].isupper():\n",
        "        yield \"uppercase_initial\"\n",
        "    if token.isupper():\n",
        "        yield \"all_uppercase\"\n",
        "    yield \"pos={}\".format(part_of_speech)"
      ],
      "execution_count": 4,
      "outputs": []
    },
    {
      "cell_type": "code",
      "metadata": {
        "colab": {
          "base_uri": "https://localhost:8080/",
          "height": 368
        },
        "id": "_lsrBkNT0vPn",
        "outputId": "d0d91bf8-3913-47ac-abab-9e9d9b160836"
      },
      "source": [
        "#   Speaker Identification.\n",
        "#   Data comes from http://www.openslr.org/12/\n",
        "#   Task: Given 't' seconds of speech, identify the speaker.\n",
        "#   10-class classification: 5 male and 5 female speakers.\n",
        "#   Training on about 10 minutes of speech per speaker.\n",
        "#\n",
        "#\n",
        "import soundfile as sf            # To read .flac files.   \n",
        "\n",
        "\n",
        "import os\n",
        "import numpy as np\n",
        "import matplotlib.pyplot as plt\n",
        "%matplotlib inline\n",
        "\n",
        "# For the neural network.\n",
        "\n",
        "from pytorch.datasets                import ClassificationDataSet\n",
        "from pytorch.tools.shortcuts         import buildNetwork\n",
        "from pytorch.supervised.trainers     import BackpropTrainer\n",
        "from pybrain.structure.modules       import SoftmaxLayer\n",
        "from pybrain.tools.xml.networkreader import NetworkReader\n",
        "from pybrain.tools.xml.networkwriter import NetworkWriter\n",
        "\n",
        "from pybrain.structure import FullConnection\n",
        "from pybrain.structure import FeedForwardNetwork\n",
        "from pybrain.structure import LinearLayer\n",
        "from pybrain.structure import SoftmaxLayer\n",
        "from pybrain.structure import TanhLayer\n",
        "\n",
        "sq = lambda x: x*x\n",
        "\n",
        "durationCheck = 10.      # Only consider files with 10 or more seconds of audio.\n",
        "deltaT        = 0.2      # Audio frame size is 0.2 seconds.\n",
        "noisy         = 0.1      # This sets the limit for static, i.e. pauses in speech.\n",
        "lim1 = 10; lim2 = 410    # Lower and upper frequencies. \n",
        "                         # For the above parameters and 16 kHz sampling, this range is about 50 - 2000 Hz.  \n",
        "audioType  = \".flac\"               # Flac files. \n",
        "path       = \"LibriSpeech/\"        # Path where audio files are located.\n",
        "trainSet   = \"train-clean/\"        # Training set.\n",
        "cvSet      = \"cv-clean/\"           # Cross-Validation set.\n",
        "tstSet     = \"test-clean/\"         # Test set. \n",
        "maxminFile = \"min_max_values.dat\"  # File to store max and min values for each frequency bin.\n",
        "outfolder  = \"networks/\"           # Folder to store trained networks.\n",
        "stem       = \"nn\"                  # Output network filename stem.    \n",
        "\n",
        "# These are the speakers.\n",
        "# Female: 19, 32, 39, 40, 83\n",
        "# Male: 26, 27, 78, 405, 196\n",
        "speakers = [\"19/\",\n",
        "            \"26/\",\n",
        "            \"32/\",\n",
        "            \"27/\",\n",
        "            \"39/\",\n",
        "            \"78/\",\n",
        "            \"40/\",\n",
        "            \"405/\", \n",
        "            \"83/\",\n",
        "            \"196/\"]\n",
        "\n",
        "numFeatures = lim2-lim1\n",
        "numSpeakers = len(speakers)"
      ],
      "execution_count": 27,
      "outputs": [
        {
          "output_type": "error",
          "ename": "ModuleNotFoundError",
          "evalue": "ignored",
          "traceback": [
            "\u001b[0;31m---------------------------------------------------------------------------\u001b[0m",
            "\u001b[0;31mModuleNotFoundError\u001b[0m                       Traceback (most recent call last)",
            "\u001b[0;32m<ipython-input-27-92f04313f3fd>\u001b[0m in \u001b[0;36m<module>\u001b[0;34m()\u001b[0m\n\u001b[1;32m     16\u001b[0m \u001b[0;31m# For the neural network.\u001b[0m\u001b[0;34m\u001b[0m\u001b[0;34m\u001b[0m\u001b[0;34m\u001b[0m\u001b[0m\n\u001b[1;32m     17\u001b[0m \u001b[0;34m\u001b[0m\u001b[0m\n\u001b[0;32m---> 18\u001b[0;31m \u001b[0;32mfrom\u001b[0m \u001b[0mpytorch\u001b[0m\u001b[0;34m.\u001b[0m\u001b[0mdatasets\u001b[0m                \u001b[0;32mimport\u001b[0m \u001b[0mClassificationDataSet\u001b[0m\u001b[0;34m\u001b[0m\u001b[0;34m\u001b[0m\u001b[0m\n\u001b[0m\u001b[1;32m     19\u001b[0m \u001b[0;32mfrom\u001b[0m \u001b[0mpytorch\u001b[0m\u001b[0;34m.\u001b[0m\u001b[0mtools\u001b[0m\u001b[0;34m.\u001b[0m\u001b[0mshortcuts\u001b[0m         \u001b[0;32mimport\u001b[0m \u001b[0mbuildNetwork\u001b[0m\u001b[0;34m\u001b[0m\u001b[0;34m\u001b[0m\u001b[0m\n\u001b[1;32m     20\u001b[0m \u001b[0;32mfrom\u001b[0m \u001b[0mpybrain\u001b[0m\u001b[0;34m.\u001b[0m\u001b[0msupervised\u001b[0m\u001b[0;34m.\u001b[0m\u001b[0mtrainers\u001b[0m     \u001b[0;32mimport\u001b[0m \u001b[0mBackpropTrainer\u001b[0m\u001b[0;34m\u001b[0m\u001b[0;34m\u001b[0m\u001b[0m\n",
            "\u001b[0;31mModuleNotFoundError\u001b[0m: No module named 'pytorch'",
            "",
            "\u001b[0;31m---------------------------------------------------------------------------\u001b[0;32m\nNOTE: If your import is failing due to a missing package, you can\nmanually install dependencies using either !pip or !apt.\n\nTo view examples of installing some common dependencies, click the\n\"Open Examples\" button below.\n\u001b[0;31m---------------------------------------------------------------------------\u001b[0m\n"
          ],
          "errorDetails": {
            "actions": [
              {
                "action": "open_url",
                "actionText": "Open Examples",
                "url": "/notebooks/snippets/importing_libraries.ipynb"
              }
            ]
          }
        }
      ]
    },
    {
      "cell_type": "code",
      "metadata": {
        "id": "1U2Zgi7e1IqZ"
      },
      "source": [
        "# Read data from a folder into a list.\n",
        "def getData(division,speaker):\n",
        "  fname = path+division+speaker  \n",
        "  subPaths = [v+\"/\" for v in os.listdir(fname) if v[0] != \".\"]\n",
        "  dataFiles = []\n",
        "  for subPath in subPaths:\n",
        "    files = [v for v in os.listdir(fname+subPath) if v[0] != \".\" and audioType in v]\n",
        "    for fil in files:\n",
        "      data,samplerate = sf.read(fname+subPath+fil)  \n",
        "      duration = len(data)*1./samplerate\n",
        "      if duration >= durationCheck: dataFiles.append(fname+subPath+fil)\n",
        "        \n",
        "  chunksF = []\n",
        "\n",
        "  for fil in dataFiles:\n",
        "    data,samplerate = sf.read(fil)  \n",
        "    duration = len(data)*1./samplerate\n",
        "\n",
        "    # Divide audio data into frames, or chunks. \n",
        "    numChunks = int(duration/deltaT)\n",
        "    sizeChunk = int(len(data)/numChunks)\n",
        "    for lp in range(0,numChunks):    \n",
        "      chunk = data[lp*sizeChunk:(lp+1)*sizeChunk]      # get a chunk of speech.     \n",
        "      chunksF.append(np.abs(np.fft.rfft(chunk))[lim1:lim2])  # take the FFT.\n",
        "\n",
        "    # Delete quiet parts of speech, i.e. pauses.\n",
        "    # Most of the power is in the bottom 50% of frequencies.\n",
        "    mu = np.mean([np.mean(chunksF[i][:numFeatures//2]) for i in range(0,len(chunksF))])\n",
        "    dataF = []\n",
        "    for chunkF in chunksF:\n",
        "      if np.mean(chunkF[:numFeatures//2]) > noisy*mu:\n",
        "        dataF.append(chunkF)\n",
        "    \n",
        "  return dataF\n",
        "\n",
        "# Return data for all speakers.\n",
        "def getDataSpeakers(division):\n",
        "  dataSpeakers = []\n",
        "  for speaker in speakers:\n",
        "    print (\"Getting data for speaker: \"+speaker)\n",
        "    dataSpeakers.append(getData(division,speaker))\n",
        "\n",
        "  N = np.sum([np.shape(s)[0] for s in dataSpeakers])\n",
        "  tX = np.mat(np.zeros((N,numFeatures)))\n",
        "  tY = []\n",
        "  speakerIndices = [0]    # Index corresponding to start of speaker 'n'\n",
        "  \n",
        "  ctr = 0; lp = 0\n",
        "  for dataSpeaker in dataSpeakers:\n",
        "    for j in range(0,len(dataSpeaker)):\n",
        "      for k in range(0,numFeatures):\n",
        "        tX[ctr,k] = dataSpeaker[j][k]\n",
        "      tY.append(lp)\n",
        "      ctr += 1  \n",
        "    speakerIndices.append(ctr)\n",
        "    lp += 1  \n",
        "          \n",
        "  return tX,tY,speakerIndices"
      ],
      "execution_count": 552,
      "outputs": []
    }
  ]
}